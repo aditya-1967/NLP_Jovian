{
  "cells": [
    {
      "cell_type": "code",
      "execution_count": 3,
      "metadata": {
        "id": "yQRGVXlc1SVH"
      },
      "outputs": [],
      "source": []
    },
    {
      "cell_type": "markdown",
      "metadata": {
        "id": "8Gf0u3uzd7oM"
      },
      "source": [
        "# Assignment - Sentiment Analysis of Movie Reviews\n",
        "\n",
        "![](https://i.imgur.com/6Wfmf2S.png)\n",
        "\n",
        "> **Problem Statement**: Apply the TF-IDF technique to train ML models for sentiment analysis using data from the \"[Sentiment Analysis on Movie Reviews](https://www.kaggle.com/c/sentiment-analysis-on-movie-reviews)\" Kaggle competition.\n",
        "\n",
        "\n",
        "Outline:\n",
        "\n",
        "1. Download and Explore Dataset\n",
        "2. Implement the TF-IDF Technique\n",
        "3. Train baseline model & submit to Kaggle\n",
        "4. Train & finetune different ML models\n",
        "3. Document & submit your notebook\n",
        "\n",
        "\n",
        "Dataset: https://www.kaggle.com/c/sentiment-analysis-on-movie-reviews\n"
      ]
    },
    {
      "cell_type": "markdown",
      "metadata": {
        "id": "hw0pygCOefi9"
      },
      "source": [
        "## Download and Explore the Data\n",
        "\n",
        "Outline:\n",
        "\n",
        "1. Download Dataset from Kaggle\n",
        "2. Explore and visualize data"
      ]
    },
    {
      "cell_type": "markdown",
      "metadata": {
        "id": "KPS8buEdtllZ"
      },
      "source": [
        "### Download Dataset from Kaggle\n",
        "\n",
        "- Read the \"Description\", \"Evaluation\" and \"Data\" sections on the Kaggle competition page carefully\n",
        "- Make sure to download the `kaggle.json` file from your [Kaggle account](https://kaggle.com/me/account) and upload it on Colab"
      ]
    },
    {
      "cell_type": "code",
      "execution_count": 4,
      "metadata": {
        "id": "FnaGd60Zuxgg"
      },
      "outputs": [],
      "source": [
        "import os"
      ]
    },
    {
      "cell_type": "code",
      "execution_count": 5,
      "metadata": {
        "id": "lcRhDakmuxEm"
      },
      "outputs": [],
      "source": [
        "os.environ['KAGGLE_CONFIG_DIR'] = '/content'"
      ]
    },
    {
      "cell_type": "code",
      "execution_count": 6,
      "metadata": {
        "colab": {
          "base_uri": "https://localhost:8080/"
        },
        "id": "MdQqvmtvend_",
        "outputId": "cc19c166-f914-42fc-f01d-8d6718053d67"
      },
      "outputs": [
        {
          "output_type": "stream",
          "name": "stdout",
          "text": [
            "Warning: Your Kaggle API key is readable by other users on this system! To fix this, you can run 'chmod 600 /content/kaggle.json'\n",
            "Downloading sentiment-analysis-on-movie-reviews.zip to /content\n",
            "100% 1.90M/1.90M [00:01<00:00, 2.12MB/s]\n",
            "100% 1.90M/1.90M [00:01<00:00, 1.87MB/s]\n"
          ]
        }
      ],
      "source": [
        "!kaggle competitions download -c sentiment-analysis-on-movie-reviews"
      ]
    },
    {
      "cell_type": "code",
      "execution_count": 7,
      "metadata": {
        "colab": {
          "base_uri": "https://localhost:8080/"
        },
        "id": "nEFLvfunenbr",
        "outputId": "445bb7d8-3359-4a22-87e7-9623f9b0bbe0"
      },
      "outputs": [
        {
          "output_type": "stream",
          "name": "stdout",
          "text": [
            "Archive:  sentiment-analysis-on-movie-reviews.zip\n",
            "  inflating: data/sampleSubmission.csv  \n",
            "  inflating: data/test.tsv.zip       \n",
            "  inflating: data/train.tsv.zip      \n"
          ]
        }
      ],
      "source": [
        "!unzip sentiment-analysis-on-movie-reviews.zip -d data"
      ]
    },
    {
      "cell_type": "code",
      "execution_count": 8,
      "metadata": {
        "id": "QOq7CBqftvz-"
      },
      "outputs": [],
      "source": [
        "train_fname = 'data/train.tsv.zip'\n",
        "test_fname = 'data/test.tsv.zip'\n",
        "sub_fname = 'data/sampleSubmission.csv'"
      ]
    },
    {
      "cell_type": "markdown",
      "metadata": {
        "id": "CVbujLQ9tpAb"
      },
      "source": [
        "### Explore and Visualize Data\n",
        "\n",
        "* Load the train, test, and submission files using Pandas\n",
        "* Explore rows, columns, sample values etc.\n",
        "* Visualize distribution of target columns"
      ]
    },
    {
      "cell_type": "code",
      "execution_count": 9,
      "metadata": {
        "id": "H2JenReXw7SI"
      },
      "outputs": [],
      "source": [
        "import pandas as pd"
      ]
    },
    {
      "cell_type": "code",
      "execution_count": 10,
      "metadata": {
        "id": "oPwLSKsrvdTa"
      },
      "outputs": [],
      "source": [
        "raw_df = pd.read_csv(train_fname, sep = '\\t')"
      ]
    },
    {
      "cell_type": "code",
      "execution_count": 11,
      "metadata": {
        "colab": {
          "base_uri": "https://localhost:8080/",
          "height": 206
        },
        "id": "4-cvRH3HenYx",
        "outputId": "6ad1668d-0204-464f-c0b9-d7d3e4286d7d"
      },
      "outputs": [
        {
          "output_type": "execute_result",
          "data": {
            "text/plain": [
              "   PhraseId  SentenceId                                             Phrase  \\\n",
              "0         1           1  A series of escapades demonstrating the adage ...   \n",
              "1         2           1  A series of escapades demonstrating the adage ...   \n",
              "2         3           1                                           A series   \n",
              "3         4           1                                                  A   \n",
              "4         5           1                                             series   \n",
              "\n",
              "   Sentiment  \n",
              "0          1  \n",
              "1          2  \n",
              "2          2  \n",
              "3          2  \n",
              "4          2  "
            ],
            "text/html": [
              "\n",
              "  <div id=\"df-8e953600-7b6f-49e1-84dc-9d76204015f0\">\n",
              "    <div class=\"colab-df-container\">\n",
              "      <div>\n",
              "<style scoped>\n",
              "    .dataframe tbody tr th:only-of-type {\n",
              "        vertical-align: middle;\n",
              "    }\n",
              "\n",
              "    .dataframe tbody tr th {\n",
              "        vertical-align: top;\n",
              "    }\n",
              "\n",
              "    .dataframe thead th {\n",
              "        text-align: right;\n",
              "    }\n",
              "</style>\n",
              "<table border=\"1\" class=\"dataframe\">\n",
              "  <thead>\n",
              "    <tr style=\"text-align: right;\">\n",
              "      <th></th>\n",
              "      <th>PhraseId</th>\n",
              "      <th>SentenceId</th>\n",
              "      <th>Phrase</th>\n",
              "      <th>Sentiment</th>\n",
              "    </tr>\n",
              "  </thead>\n",
              "  <tbody>\n",
              "    <tr>\n",
              "      <th>0</th>\n",
              "      <td>1</td>\n",
              "      <td>1</td>\n",
              "      <td>A series of escapades demonstrating the adage ...</td>\n",
              "      <td>1</td>\n",
              "    </tr>\n",
              "    <tr>\n",
              "      <th>1</th>\n",
              "      <td>2</td>\n",
              "      <td>1</td>\n",
              "      <td>A series of escapades demonstrating the adage ...</td>\n",
              "      <td>2</td>\n",
              "    </tr>\n",
              "    <tr>\n",
              "      <th>2</th>\n",
              "      <td>3</td>\n",
              "      <td>1</td>\n",
              "      <td>A series</td>\n",
              "      <td>2</td>\n",
              "    </tr>\n",
              "    <tr>\n",
              "      <th>3</th>\n",
              "      <td>4</td>\n",
              "      <td>1</td>\n",
              "      <td>A</td>\n",
              "      <td>2</td>\n",
              "    </tr>\n",
              "    <tr>\n",
              "      <th>4</th>\n",
              "      <td>5</td>\n",
              "      <td>1</td>\n",
              "      <td>series</td>\n",
              "      <td>2</td>\n",
              "    </tr>\n",
              "  </tbody>\n",
              "</table>\n",
              "</div>\n",
              "      <button class=\"colab-df-convert\" onclick=\"convertToInteractive('df-8e953600-7b6f-49e1-84dc-9d76204015f0')\"\n",
              "              title=\"Convert this dataframe to an interactive table.\"\n",
              "              style=\"display:none;\">\n",
              "        \n",
              "  <svg xmlns=\"http://www.w3.org/2000/svg\" height=\"24px\"viewBox=\"0 0 24 24\"\n",
              "       width=\"24px\">\n",
              "    <path d=\"M0 0h24v24H0V0z\" fill=\"none\"/>\n",
              "    <path d=\"M18.56 5.44l.94 2.06.94-2.06 2.06-.94-2.06-.94-.94-2.06-.94 2.06-2.06.94zm-11 1L8.5 8.5l.94-2.06 2.06-.94-2.06-.94L8.5 2.5l-.94 2.06-2.06.94zm10 10l.94 2.06.94-2.06 2.06-.94-2.06-.94-.94-2.06-.94 2.06-2.06.94z\"/><path d=\"M17.41 7.96l-1.37-1.37c-.4-.4-.92-.59-1.43-.59-.52 0-1.04.2-1.43.59L10.3 9.45l-7.72 7.72c-.78.78-.78 2.05 0 2.83L4 21.41c.39.39.9.59 1.41.59.51 0 1.02-.2 1.41-.59l7.78-7.78 2.81-2.81c.8-.78.8-2.07 0-2.86zM5.41 20L4 18.59l7.72-7.72 1.47 1.35L5.41 20z\"/>\n",
              "  </svg>\n",
              "      </button>\n",
              "      \n",
              "  <style>\n",
              "    .colab-df-container {\n",
              "      display:flex;\n",
              "      flex-wrap:wrap;\n",
              "      gap: 12px;\n",
              "    }\n",
              "\n",
              "    .colab-df-convert {\n",
              "      background-color: #E8F0FE;\n",
              "      border: none;\n",
              "      border-radius: 50%;\n",
              "      cursor: pointer;\n",
              "      display: none;\n",
              "      fill: #1967D2;\n",
              "      height: 32px;\n",
              "      padding: 0 0 0 0;\n",
              "      width: 32px;\n",
              "    }\n",
              "\n",
              "    .colab-df-convert:hover {\n",
              "      background-color: #E2EBFA;\n",
              "      box-shadow: 0px 1px 2px rgba(60, 64, 67, 0.3), 0px 1px 3px 1px rgba(60, 64, 67, 0.15);\n",
              "      fill: #174EA6;\n",
              "    }\n",
              "\n",
              "    [theme=dark] .colab-df-convert {\n",
              "      background-color: #3B4455;\n",
              "      fill: #D2E3FC;\n",
              "    }\n",
              "\n",
              "    [theme=dark] .colab-df-convert:hover {\n",
              "      background-color: #434B5C;\n",
              "      box-shadow: 0px 1px 3px 1px rgba(0, 0, 0, 0.15);\n",
              "      filter: drop-shadow(0px 1px 2px rgba(0, 0, 0, 0.3));\n",
              "      fill: #FFFFFF;\n",
              "    }\n",
              "  </style>\n",
              "\n",
              "      <script>\n",
              "        const buttonEl =\n",
              "          document.querySelector('#df-8e953600-7b6f-49e1-84dc-9d76204015f0 button.colab-df-convert');\n",
              "        buttonEl.style.display =\n",
              "          google.colab.kernel.accessAllowed ? 'block' : 'none';\n",
              "\n",
              "        async function convertToInteractive(key) {\n",
              "          const element = document.querySelector('#df-8e953600-7b6f-49e1-84dc-9d76204015f0');\n",
              "          const dataTable =\n",
              "            await google.colab.kernel.invokeFunction('convertToInteractive',\n",
              "                                                     [key], {});\n",
              "          if (!dataTable) return;\n",
              "\n",
              "          const docLinkHtml = 'Like what you see? Visit the ' +\n",
              "            '<a target=\"_blank\" href=https://colab.research.google.com/notebooks/data_table.ipynb>data table notebook</a>'\n",
              "            + ' to learn more about interactive tables.';\n",
              "          element.innerHTML = '';\n",
              "          dataTable['output_type'] = 'display_data';\n",
              "          await google.colab.output.renderOutput(dataTable, element);\n",
              "          const docLink = document.createElement('div');\n",
              "          docLink.innerHTML = docLinkHtml;\n",
              "          element.appendChild(docLink);\n",
              "        }\n",
              "      </script>\n",
              "    </div>\n",
              "  </div>\n",
              "  "
            ]
          },
          "metadata": {},
          "execution_count": 11
        }
      ],
      "source": [
        "raw_df.head()"
      ]
    },
    {
      "cell_type": "code",
      "execution_count": 12,
      "metadata": {
        "id": "EF3B9tjTxJVn"
      },
      "outputs": [],
      "source": [
        "test_df = pd.read_csv(test_fname, sep = '\\t')"
      ]
    },
    {
      "cell_type": "code",
      "execution_count": 13,
      "metadata": {
        "colab": {
          "base_uri": "https://localhost:8080/",
          "height": 206
        },
        "id": "ZwubETUvxTBo",
        "outputId": "ebf5f9d6-721f-4ac8-bb00-b28d14c2caae"
      },
      "outputs": [
        {
          "output_type": "execute_result",
          "data": {
            "text/plain": [
              "   PhraseId  SentenceId                                             Phrase\n",
              "0    156061        8545  An intermittently pleasing but mostly routine ...\n",
              "1    156062        8545  An intermittently pleasing but mostly routine ...\n",
              "2    156063        8545                                                 An\n",
              "3    156064        8545  intermittently pleasing but mostly routine effort\n",
              "4    156065        8545         intermittently pleasing but mostly routine"
            ],
            "text/html": [
              "\n",
              "  <div id=\"df-989d882b-ee1b-48a5-b158-8ec57df17595\">\n",
              "    <div class=\"colab-df-container\">\n",
              "      <div>\n",
              "<style scoped>\n",
              "    .dataframe tbody tr th:only-of-type {\n",
              "        vertical-align: middle;\n",
              "    }\n",
              "\n",
              "    .dataframe tbody tr th {\n",
              "        vertical-align: top;\n",
              "    }\n",
              "\n",
              "    .dataframe thead th {\n",
              "        text-align: right;\n",
              "    }\n",
              "</style>\n",
              "<table border=\"1\" class=\"dataframe\">\n",
              "  <thead>\n",
              "    <tr style=\"text-align: right;\">\n",
              "      <th></th>\n",
              "      <th>PhraseId</th>\n",
              "      <th>SentenceId</th>\n",
              "      <th>Phrase</th>\n",
              "    </tr>\n",
              "  </thead>\n",
              "  <tbody>\n",
              "    <tr>\n",
              "      <th>0</th>\n",
              "      <td>156061</td>\n",
              "      <td>8545</td>\n",
              "      <td>An intermittently pleasing but mostly routine ...</td>\n",
              "    </tr>\n",
              "    <tr>\n",
              "      <th>1</th>\n",
              "      <td>156062</td>\n",
              "      <td>8545</td>\n",
              "      <td>An intermittently pleasing but mostly routine ...</td>\n",
              "    </tr>\n",
              "    <tr>\n",
              "      <th>2</th>\n",
              "      <td>156063</td>\n",
              "      <td>8545</td>\n",
              "      <td>An</td>\n",
              "    </tr>\n",
              "    <tr>\n",
              "      <th>3</th>\n",
              "      <td>156064</td>\n",
              "      <td>8545</td>\n",
              "      <td>intermittently pleasing but mostly routine effort</td>\n",
              "    </tr>\n",
              "    <tr>\n",
              "      <th>4</th>\n",
              "      <td>156065</td>\n",
              "      <td>8545</td>\n",
              "      <td>intermittently pleasing but mostly routine</td>\n",
              "    </tr>\n",
              "  </tbody>\n",
              "</table>\n",
              "</div>\n",
              "      <button class=\"colab-df-convert\" onclick=\"convertToInteractive('df-989d882b-ee1b-48a5-b158-8ec57df17595')\"\n",
              "              title=\"Convert this dataframe to an interactive table.\"\n",
              "              style=\"display:none;\">\n",
              "        \n",
              "  <svg xmlns=\"http://www.w3.org/2000/svg\" height=\"24px\"viewBox=\"0 0 24 24\"\n",
              "       width=\"24px\">\n",
              "    <path d=\"M0 0h24v24H0V0z\" fill=\"none\"/>\n",
              "    <path d=\"M18.56 5.44l.94 2.06.94-2.06 2.06-.94-2.06-.94-.94-2.06-.94 2.06-2.06.94zm-11 1L8.5 8.5l.94-2.06 2.06-.94-2.06-.94L8.5 2.5l-.94 2.06-2.06.94zm10 10l.94 2.06.94-2.06 2.06-.94-2.06-.94-.94-2.06-.94 2.06-2.06.94z\"/><path d=\"M17.41 7.96l-1.37-1.37c-.4-.4-.92-.59-1.43-.59-.52 0-1.04.2-1.43.59L10.3 9.45l-7.72 7.72c-.78.78-.78 2.05 0 2.83L4 21.41c.39.39.9.59 1.41.59.51 0 1.02-.2 1.41-.59l7.78-7.78 2.81-2.81c.8-.78.8-2.07 0-2.86zM5.41 20L4 18.59l7.72-7.72 1.47 1.35L5.41 20z\"/>\n",
              "  </svg>\n",
              "      </button>\n",
              "      \n",
              "  <style>\n",
              "    .colab-df-container {\n",
              "      display:flex;\n",
              "      flex-wrap:wrap;\n",
              "      gap: 12px;\n",
              "    }\n",
              "\n",
              "    .colab-df-convert {\n",
              "      background-color: #E8F0FE;\n",
              "      border: none;\n",
              "      border-radius: 50%;\n",
              "      cursor: pointer;\n",
              "      display: none;\n",
              "      fill: #1967D2;\n",
              "      height: 32px;\n",
              "      padding: 0 0 0 0;\n",
              "      width: 32px;\n",
              "    }\n",
              "\n",
              "    .colab-df-convert:hover {\n",
              "      background-color: #E2EBFA;\n",
              "      box-shadow: 0px 1px 2px rgba(60, 64, 67, 0.3), 0px 1px 3px 1px rgba(60, 64, 67, 0.15);\n",
              "      fill: #174EA6;\n",
              "    }\n",
              "\n",
              "    [theme=dark] .colab-df-convert {\n",
              "      background-color: #3B4455;\n",
              "      fill: #D2E3FC;\n",
              "    }\n",
              "\n",
              "    [theme=dark] .colab-df-convert:hover {\n",
              "      background-color: #434B5C;\n",
              "      box-shadow: 0px 1px 3px 1px rgba(0, 0, 0, 0.15);\n",
              "      filter: drop-shadow(0px 1px 2px rgba(0, 0, 0, 0.3));\n",
              "      fill: #FFFFFF;\n",
              "    }\n",
              "  </style>\n",
              "\n",
              "      <script>\n",
              "        const buttonEl =\n",
              "          document.querySelector('#df-989d882b-ee1b-48a5-b158-8ec57df17595 button.colab-df-convert');\n",
              "        buttonEl.style.display =\n",
              "          google.colab.kernel.accessAllowed ? 'block' : 'none';\n",
              "\n",
              "        async function convertToInteractive(key) {\n",
              "          const element = document.querySelector('#df-989d882b-ee1b-48a5-b158-8ec57df17595');\n",
              "          const dataTable =\n",
              "            await google.colab.kernel.invokeFunction('convertToInteractive',\n",
              "                                                     [key], {});\n",
              "          if (!dataTable) return;\n",
              "\n",
              "          const docLinkHtml = 'Like what you see? Visit the ' +\n",
              "            '<a target=\"_blank\" href=https://colab.research.google.com/notebooks/data_table.ipynb>data table notebook</a>'\n",
              "            + ' to learn more about interactive tables.';\n",
              "          element.innerHTML = '';\n",
              "          dataTable['output_type'] = 'display_data';\n",
              "          await google.colab.output.renderOutput(dataTable, element);\n",
              "          const docLink = document.createElement('div');\n",
              "          docLink.innerHTML = docLinkHtml;\n",
              "          element.appendChild(docLink);\n",
              "        }\n",
              "      </script>\n",
              "    </div>\n",
              "  </div>\n",
              "  "
            ]
          },
          "metadata": {},
          "execution_count": 13
        }
      ],
      "source": [
        "test_df.head()"
      ]
    },
    {
      "cell_type": "code",
      "execution_count": 14,
      "metadata": {
        "id": "l0Skd9KnxdjV"
      },
      "outputs": [],
      "source": [
        "sub_df = pd.read_csv(sub_fname)"
      ]
    },
    {
      "cell_type": "code",
      "execution_count": 15,
      "metadata": {
        "colab": {
          "base_uri": "https://localhost:8080/",
          "height": 206
        },
        "id": "uT_Dci92enWk",
        "outputId": "6d5e8663-9e60-4759-d778-b13e63c30944"
      },
      "outputs": [
        {
          "output_type": "execute_result",
          "data": {
            "text/plain": [
              "   PhraseId  Sentiment\n",
              "0    156061          2\n",
              "1    156062          2\n",
              "2    156063          2\n",
              "3    156064          2\n",
              "4    156065          2"
            ],
            "text/html": [
              "\n",
              "  <div id=\"df-3a46a5f9-e009-4bd7-bdc8-18a3d8815f3a\">\n",
              "    <div class=\"colab-df-container\">\n",
              "      <div>\n",
              "<style scoped>\n",
              "    .dataframe tbody tr th:only-of-type {\n",
              "        vertical-align: middle;\n",
              "    }\n",
              "\n",
              "    .dataframe tbody tr th {\n",
              "        vertical-align: top;\n",
              "    }\n",
              "\n",
              "    .dataframe thead th {\n",
              "        text-align: right;\n",
              "    }\n",
              "</style>\n",
              "<table border=\"1\" class=\"dataframe\">\n",
              "  <thead>\n",
              "    <tr style=\"text-align: right;\">\n",
              "      <th></th>\n",
              "      <th>PhraseId</th>\n",
              "      <th>Sentiment</th>\n",
              "    </tr>\n",
              "  </thead>\n",
              "  <tbody>\n",
              "    <tr>\n",
              "      <th>0</th>\n",
              "      <td>156061</td>\n",
              "      <td>2</td>\n",
              "    </tr>\n",
              "    <tr>\n",
              "      <th>1</th>\n",
              "      <td>156062</td>\n",
              "      <td>2</td>\n",
              "    </tr>\n",
              "    <tr>\n",
              "      <th>2</th>\n",
              "      <td>156063</td>\n",
              "      <td>2</td>\n",
              "    </tr>\n",
              "    <tr>\n",
              "      <th>3</th>\n",
              "      <td>156064</td>\n",
              "      <td>2</td>\n",
              "    </tr>\n",
              "    <tr>\n",
              "      <th>4</th>\n",
              "      <td>156065</td>\n",
              "      <td>2</td>\n",
              "    </tr>\n",
              "  </tbody>\n",
              "</table>\n",
              "</div>\n",
              "      <button class=\"colab-df-convert\" onclick=\"convertToInteractive('df-3a46a5f9-e009-4bd7-bdc8-18a3d8815f3a')\"\n",
              "              title=\"Convert this dataframe to an interactive table.\"\n",
              "              style=\"display:none;\">\n",
              "        \n",
              "  <svg xmlns=\"http://www.w3.org/2000/svg\" height=\"24px\"viewBox=\"0 0 24 24\"\n",
              "       width=\"24px\">\n",
              "    <path d=\"M0 0h24v24H0V0z\" fill=\"none\"/>\n",
              "    <path d=\"M18.56 5.44l.94 2.06.94-2.06 2.06-.94-2.06-.94-.94-2.06-.94 2.06-2.06.94zm-11 1L8.5 8.5l.94-2.06 2.06-.94-2.06-.94L8.5 2.5l-.94 2.06-2.06.94zm10 10l.94 2.06.94-2.06 2.06-.94-2.06-.94-.94-2.06-.94 2.06-2.06.94z\"/><path d=\"M17.41 7.96l-1.37-1.37c-.4-.4-.92-.59-1.43-.59-.52 0-1.04.2-1.43.59L10.3 9.45l-7.72 7.72c-.78.78-.78 2.05 0 2.83L4 21.41c.39.39.9.59 1.41.59.51 0 1.02-.2 1.41-.59l7.78-7.78 2.81-2.81c.8-.78.8-2.07 0-2.86zM5.41 20L4 18.59l7.72-7.72 1.47 1.35L5.41 20z\"/>\n",
              "  </svg>\n",
              "      </button>\n",
              "      \n",
              "  <style>\n",
              "    .colab-df-container {\n",
              "      display:flex;\n",
              "      flex-wrap:wrap;\n",
              "      gap: 12px;\n",
              "    }\n",
              "\n",
              "    .colab-df-convert {\n",
              "      background-color: #E8F0FE;\n",
              "      border: none;\n",
              "      border-radius: 50%;\n",
              "      cursor: pointer;\n",
              "      display: none;\n",
              "      fill: #1967D2;\n",
              "      height: 32px;\n",
              "      padding: 0 0 0 0;\n",
              "      width: 32px;\n",
              "    }\n",
              "\n",
              "    .colab-df-convert:hover {\n",
              "      background-color: #E2EBFA;\n",
              "      box-shadow: 0px 1px 2px rgba(60, 64, 67, 0.3), 0px 1px 3px 1px rgba(60, 64, 67, 0.15);\n",
              "      fill: #174EA6;\n",
              "    }\n",
              "\n",
              "    [theme=dark] .colab-df-convert {\n",
              "      background-color: #3B4455;\n",
              "      fill: #D2E3FC;\n",
              "    }\n",
              "\n",
              "    [theme=dark] .colab-df-convert:hover {\n",
              "      background-color: #434B5C;\n",
              "      box-shadow: 0px 1px 3px 1px rgba(0, 0, 0, 0.15);\n",
              "      filter: drop-shadow(0px 1px 2px rgba(0, 0, 0, 0.3));\n",
              "      fill: #FFFFFF;\n",
              "    }\n",
              "  </style>\n",
              "\n",
              "      <script>\n",
              "        const buttonEl =\n",
              "          document.querySelector('#df-3a46a5f9-e009-4bd7-bdc8-18a3d8815f3a button.colab-df-convert');\n",
              "        buttonEl.style.display =\n",
              "          google.colab.kernel.accessAllowed ? 'block' : 'none';\n",
              "\n",
              "        async function convertToInteractive(key) {\n",
              "          const element = document.querySelector('#df-3a46a5f9-e009-4bd7-bdc8-18a3d8815f3a');\n",
              "          const dataTable =\n",
              "            await google.colab.kernel.invokeFunction('convertToInteractive',\n",
              "                                                     [key], {});\n",
              "          if (!dataTable) return;\n",
              "\n",
              "          const docLinkHtml = 'Like what you see? Visit the ' +\n",
              "            '<a target=\"_blank\" href=https://colab.research.google.com/notebooks/data_table.ipynb>data table notebook</a>'\n",
              "            + ' to learn more about interactive tables.';\n",
              "          element.innerHTML = '';\n",
              "          dataTable['output_type'] = 'display_data';\n",
              "          await google.colab.output.renderOutput(dataTable, element);\n",
              "          const docLink = document.createElement('div');\n",
              "          docLink.innerHTML = docLinkHtml;\n",
              "          element.appendChild(docLink);\n",
              "        }\n",
              "      </script>\n",
              "    </div>\n",
              "  </div>\n",
              "  "
            ]
          },
          "metadata": {},
          "execution_count": 15
        }
      ],
      "source": [
        "sub_df.head()"
      ]
    },
    {
      "cell_type": "code",
      "execution_count": 16,
      "metadata": {
        "colab": {
          "base_uri": "https://localhost:8080/",
          "height": 279
        },
        "id": "1ao58CXLx15G",
        "outputId": "0b3a9dee-bfb7-48ed-afa8-3c09396ec4a2"
      },
      "outputs": [
        {
          "output_type": "execute_result",
          "data": {
            "text/plain": [
              "<matplotlib.axes._subplots.AxesSubplot at 0x7f3097826f50>"
            ]
          },
          "metadata": {},
          "execution_count": 16
        },
        {
          "output_type": "display_data",
          "data": {
            "text/plain": [
              "<Figure size 432x288 with 1 Axes>"
            ],
            "image/png": "[encoded data removed]"
          },
          "metadata": {
            "needs_background": "light"
          }
        }
      ],
      "source": [
        "raw_df.Sentiment.value_counts().sort_index().plot(kind = 'bar')"
      ]
    },
    {
      "cell_type": "code",
      "execution_count": 17,
      "metadata": {
        "colab": {
          "base_uri": "https://localhost:8080/",
          "height": 265
        },
        "id": "-uae8Me6tt4I",
        "outputId": "b20da275-a8c0-46e2-f68d-bd2af96eb83f"
      },
      "outputs": [
        {
          "output_type": "execute_result",
          "data": {
            "text/plain": [
              "<matplotlib.axes._subplots.AxesSubplot at 0x7f3097724250>"
            ]
          },
          "metadata": {},
          "execution_count": 17
        },
        {
          "output_type": "display_data",
          "data": {
            "text/plain": [
              "<Figure size 432x288 with 1 Axes>"
            ],
            "image/png": "[encoded data removed]"
          },
          "metadata": {}
        }
      ],
      "source": [
        "raw_df.Sentiment.value_counts(normalize = 'True').sort_index().plot(kind = 'pie')"
      ]
    },
    {
      "cell_type": "code",
      "execution_count": 18,
      "metadata": {
        "colab": {
          "base_uri": "https://localhost:8080/",
          "height": 282
        },
        "id": "Y8mJk3hxx1qA",
        "outputId": "3dfdf2db-1fd0-4272-8ed8-70a2e1a06ccd"
      },
      "outputs": [
        {
          "output_type": "execute_result",
          "data": {
            "text/plain": [
              "<matplotlib.axes._subplots.AxesSubplot at 0x7f3097245990>"
            ]
          },
          "metadata": {},
          "execution_count": 18
        },
        {
          "output_type": "display_data",
          "data": {
            "text/plain": [
              "<Figure size 432x288 with 1 Axes>"
            ],
            "image/png": "[encoded data removed]"
          },
          "metadata": {
            "needs_background": "light"
          }
        }
      ],
      "source": [
        "raw_df.Sentiment.value_counts(normalize = 'True').sort_index().plot(kind = 'line')"
      ]
    },
    {
      "cell_type": "markdown",
      "metadata": {
        "id": "yESLHuK3x65P"
      },
      "source": [
        "Summarize your insights and learnings from the dataset below:\n",
        "\n",
        "* `The plot is a gaussian curve with value of 2 being the most rated`\n",
        "* `From the curve we can say that most of the phrases are neutral`\n",
        "* `There are very less number of phrases which are either too positive or too negative`"
      ]
    },
    {
      "cell_type": "markdown",
      "metadata": {
        "id": "pYaRDixJen33"
      },
      "source": [
        "## Implement TF-IDF Technique\n",
        "\n",
        "![](https://i.imgur.com/5VbUPup.png)\n",
        "\n",
        "Outline:\n",
        "\n",
        "1. Learn the vocabulary using `TfidfVectorizer`\n",
        "3. Transform training and test data"
      ]
    },
    {
      "cell_type": "markdown",
      "metadata": {
        "id": "m3cu-meXuETm"
      },
      "source": [
        "#### Learn Vocabulary using `TfidfVectorizer `\n",
        "\n",
        "* Create custom tokenizer with stemming\n",
        "* Create a list of stop words\n",
        "* Configure and create `TfidfVectorizer `\n",
        "* Learn vocubulary from training set\n",
        "* View sample entries from vocabulary"
      ]
    },
    {
      "cell_type": "code",
      "execution_count": 19,
      "metadata": {
        "id": "u7pWYRHnzUWW"
      },
      "outputs": [],
      "source": [
        "from nltk.tokenize import word_tokenize"
      ]
    },
    {
      "cell_type": "code",
      "execution_count": 20,
      "metadata": {
        "colab": {
          "base_uri": "https://localhost:8080/"
        },
        "id": "Ag_lyI8mzbqE",
        "outputId": "2502b360-8775-440c-a30e-f175a10262e9"
      },
      "outputs": [
        {
          "output_type": "stream",
          "name": "stderr",
          "text": [
            "[nltk_data] Downloading package punkt to /root/nltk_data...\n",
            "[nltk_data]   Unzipping tokenizers/punkt.zip.\n",
            "[nltk_data] Downloading package stopwords to /root/nltk_data...\n",
            "[nltk_data]   Unzipping corpora/stopwords.zip.\n"
          ]
        },
        {
          "output_type": "execute_result",
          "data": {
            "text/plain": [
              "True"
            ]
          },
          "metadata": {},
          "execution_count": 20
        }
      ],
      "source": [
        "import nltk\n",
        "nltk.download('punkt')\n",
        "nltk.download('stopwords')"
      ]
    },
    {
      "cell_type": "code",
      "execution_count": 21,
      "metadata": {
        "id": "4vzkmwVG0GGE"
      },
      "outputs": [],
      "source": [
        "from nltk.stem.snowball import SnowballStemmer"
      ]
    },
    {
      "cell_type": "code",
      "execution_count": 22,
      "metadata": {
        "id": "DxZWPPfE0FeN"
      },
      "outputs": [],
      "source": [
        "stemmer = SnowballStemmer(language = 'english')"
      ]
    },
    {
      "cell_type": "code",
      "execution_count": 23,
      "metadata": {
        "id": "ffPOWbhdd7oP"
      },
      "outputs": [],
      "source": [
        "def tokenize(text):\n",
        "  return [stemmer.stem(token) for token in word_tokenize(text) if token.isalpha()]"
      ]
    },
    {
      "cell_type": "code",
      "execution_count": 24,
      "metadata": {
        "colab": {
          "base_uri": "https://localhost:8080/"
        },
        "id": "Tp3P0zaw0ATc",
        "outputId": "e5d0103e-9332-4449-8054-c67f73a439b5"
      },
      "outputs": [
        {
          "output_type": "execute_result",
          "data": {
            "text/plain": [
              "['the', 'boy', 'who', 'live', 'come', 'to', 'die']"
            ]
          },
          "metadata": {},
          "execution_count": 24
        }
      ],
      "source": [
        "tokenize('The boy who lived, come to die')"
      ]
    },
    {
      "cell_type": "code",
      "execution_count": 25,
      "metadata": {
        "id": "aggX4uwmeswS"
      },
      "outputs": [],
      "source": [
        "from sklearn.feature_extraction.text import TfidfVectorizer"
      ]
    },
    {
      "cell_type": "code",
      "execution_count": 26,
      "metadata": {
        "id": "Qnqs3uzVG3OF"
      },
      "outputs": [],
      "source": [
        "from nltk.corpus import stopwords\n",
        "eng_stopwords = stopwords.words('english')"
      ]
    },
    {
      "cell_type": "code",
      "execution_count": 27,
      "metadata": {
        "colab": {
          "base_uri": "https://localhost:8080/",
          "height": 0
        },
        "id": "sr1vo3AKHeYl",
        "outputId": "9e8d32d0-bd0b-498e-d1fd-c2c3d6e28dea"
      },
      "outputs": [
        {
          "output_type": "execute_result",
          "data": {
            "text/plain": [
              "\"i, me, my, myself, we, our, ours, ourselves, you, you're, you've, you'll, you'd, your, yours, yourself, yourselves, he, him, his, himself, she, she's, her, hers, herself, it, it's, its, itself, they, them, their, theirs, themselves, what, which, who, whom, this, that, that'll, these, those, am, is, are, was, were, be, been, being, have, has, had, having, do, does, did, doing, a, an, the, and, but, if, or, because, as, until, while, of, at, by, for, with, about, against, between, into, through, during, before, after, above, below, to, from, up, down, in, out, on, off, over, under, again, further, then, once, here, there, when, where, why, how, all, any, both, each, few, more, most, other, some\""
            ],
            "application/vnd.google.colaboratory.intrinsic+json": {
              "type": "string"
            }
          },
          "metadata": {},
          "execution_count": 27
        }
      ],
      "source": [
        "\", \".join(eng_stopwords[:115])"
      ]
    },
    {
      "cell_type": "code",
      "execution_count": 28,
      "metadata": {
        "id": "JOaDFToRHs9I"
      },
      "outputs": [],
      "source": [
        "selected_stopwords = eng_stopwords[:115]"
      ]
    },
    {
      "cell_type": "code",
      "execution_count": 29,
      "metadata": {
        "id": "UWS0NJkk0Z2p"
      },
      "outputs": [],
      "source": [
        "vectorizer = TfidfVectorizer(tokenizer = tokenize, stop_words = selected_stopwords, ngram_range = (1, 2), max_features = 2000)"
      ]
    },
    {
      "cell_type": "code",
      "execution_count": 30,
      "metadata": {
        "colab": {
          "base_uri": "https://localhost:8080/"
        },
        "id": "Tu_garEvesta",
        "outputId": "35b7375d-0cdc-4e5e-fa53-b429fda4fc86"
      },
      "outputs": [
        {
          "output_type": "stream",
          "name": "stderr",
          "text": [
            "/usr/local/lib/python3.7/dist-packages/sklearn/feature_extraction/text.py:517: UserWarning: The parameter 'token_pattern' will not be used since 'tokenizer' is not None'\n",
            "  \"The parameter 'token_pattern' will not be used\"\n",
            "/usr/local/lib/python3.7/dist-packages/sklearn/feature_extraction/text.py:401: UserWarning: Your stop_words may be inconsistent with your preprocessing. Tokenizing the stop words generated tokens ['abov', 'ani', 'becaus', 'befor', 'doe', 'dure', 'onc', 'ourselv', 'themselv', 'whi', 'yourselv'] not in stop_words.\n",
            "  % sorted(inconsistent)\n"
          ]
        },
        {
          "output_type": "execute_result",
          "data": {
            "text/plain": [
              "TfidfVectorizer(max_features=2000, ngram_range=(1, 2),\n",
              "                stop_words=['i', 'me', 'my', 'myself', 'we', 'our', 'ours',\n",
              "                            'ourselves', 'you', \"you're\", \"you've\", \"you'll\",\n",
              "                            \"you'd\", 'your', 'yours', 'yourself', 'yourselves',\n",
              "                            'he', 'him', 'his', 'himself', 'she', \"she's\",\n",
              "                            'her', 'hers', 'herself', 'it', \"it's\", 'its',\n",
              "                            'itself', ...],\n",
              "                tokenizer=<function tokenize at 0x7f3092e47c20>)"
            ]
          },
          "metadata": {},
          "execution_count": 30
        }
      ],
      "source": [
        "vectorizer.fit(raw_df.Phrase)"
      ]
    },
    {
      "cell_type": "code",
      "execution_count": 31,
      "metadata": {
        "colab": {
          "base_uri": "https://localhost:8080/"
        },
        "id": "Xl-NWRL4esq8",
        "outputId": "ceb1c851-8ed5-433a-ce28-21613c9cb315"
      },
      "outputs": [
        {
          "output_type": "execute_result",
          "data": {
            "text/plain": [
              "2000"
            ]
          },
          "metadata": {},
          "execution_count": 31
        }
      ],
      "source": [
        "len(vectorizer.vocabulary_)"
      ]
    },
    {
      "cell_type": "code",
      "execution_count": 32,
      "metadata": {
        "colab": {
          "base_uri": "https://localhost:8080/"
        },
        "id": "7re6Uh_l03vY",
        "outputId": "38f588d8-e75f-47db-bbd1-57f212ed6d47"
      },
      "outputs": [
        {
          "output_type": "execute_result",
          "data": {
            "text/plain": [
              "array(['abandon', 'abil', 'abl', 'abov', 'absolut', 'absorb', 'abstract',\n",
              "       'absurd', 'abus', 'accent', 'accept', 'access', 'accomplish',\n",
              "       'accur', 'ach', 'achiev', 'across', 'act', 'action', 'action film',\n",
              "       'action movi', 'action sequenc', 'actor', 'actress', 'actual',\n",
              "       'ad', 'adam', 'adam sandler', 'adapt', 'add', 'addit', 'adequ',\n",
              "       'admir', 'admit', 'adolesc', 'adult', 'adventur', 'affair',\n",
              "       'affect', 'afraid', 'age', 'ago', 'ahead', 'aim', 'aimless', 'air',\n",
              "       'alien', 'aliv', 'allen', 'allow', 'almost', 'alon', 'along',\n",
              "       'alreadi', 'also', 'altern', 'although', 'alway', 'amateurish',\n",
              "       'amaz', 'ambigu', 'ambit', 'ambiti', 'america', 'american',\n",
              "       'among', 'amount', 'amus', 'analyz', 'angel', 'angst', 'ani',\n",
              "       'anim', 'ann', 'annoy', 'anoth', 'answer', 'anyon', 'anyth',\n",
              "       'apart', 'appar', 'appeal', 'appear', 'appli', 'appreci',\n",
              "       'approach', 'appropri', 'area', 'argu', 'argument', 'around',\n",
              "       'arriv', 'art', 'artifici', 'artist', 'ask', 'aspect', 'aspir',\n",
              "       'assassin', 'associ'], dtype=object)"
            ]
          },
          "metadata": {},
          "execution_count": 32
        }
      ],
      "source": [
        "vectorizer.get_feature_names_out()[:100]"
      ]
    },
    {
      "cell_type": "markdown",
      "metadata": {
        "id": "N83nLs4juO67"
      },
      "source": [
        "### Transform Training & Test Data\n",
        "\n",
        "* Transform phrases from training set\n",
        "* Transform phrases from test set\n",
        "* Look at some example values"
      ]
    },
    {
      "cell_type": "code",
      "execution_count": 33,
      "metadata": {
        "id": "B6WXWiQzuOcX"
      },
      "outputs": [],
      "source": [
        "inputs = vectorizer.transform(raw_df.Phrase)"
      ]
    },
    {
      "cell_type": "code",
      "execution_count": 34,
      "metadata": {
        "colab": {
          "base_uri": "https://localhost:8080/"
        },
        "id": "0BDzHuBbuPSz",
        "outputId": "e06024f8-9a54-4edf-cc85-73a014624939"
      },
      "outputs": [
        {
          "output_type": "execute_result",
          "data": {
            "text/plain": [
              "(156060, 2000)"
            ]
          },
          "metadata": {},
          "execution_count": 34
        }
      ],
      "source": [
        "inputs.shape"
      ]
    },
    {
      "cell_type": "code",
      "execution_count": 35,
      "metadata": {
        "colab": {
          "base_uri": "https://localhost:8080/"
        },
        "id": "sEnfZpS83eUr",
        "outputId": "3323af6b-9662-4fce-d5f8-fac3c26798a6"
      },
      "outputs": [
        {
          "output_type": "execute_result",
          "data": {
            "text/plain": [
              "array([0.        , 0.        , 0.        , 0.        , 0.        ,\n",
              "       0.        , 0.        , 0.        , 0.        , 0.        ,\n",
              "       0.        , 0.        , 0.        , 0.        , 0.        ,\n",
              "       0.        , 0.        , 0.        , 0.        , 0.        ,\n",
              "       0.        , 0.        , 0.        , 0.        , 0.        ,\n",
              "       0.        , 0.        , 0.        , 0.        , 0.        ,\n",
              "       0.        , 0.        , 0.        , 0.        , 0.        ,\n",
              "       0.        , 0.        , 0.        , 0.        , 0.        ,\n",
              "       0.        , 0.        , 0.        , 0.        , 0.        ,\n",
              "       0.        , 0.        , 0.        , 0.        , 0.        ,\n",
              "       0.        , 0.        , 0.        , 0.        , 0.27620188,\n",
              "       0.        , 0.        , 0.        , 0.        , 0.        ,\n",
              "       0.        , 0.        , 0.        , 0.        , 0.        ,\n",
              "       0.        , 0.33022325, 0.29314979, 0.        , 0.        ,\n",
              "       0.        , 0.        , 0.        , 0.        , 0.        ,\n",
              "       0.        , 0.        , 0.        , 0.        , 0.        ,\n",
              "       0.        , 0.        , 0.        , 0.        , 0.        ,\n",
              "       0.        , 0.        , 0.        , 0.        , 0.        ,\n",
              "       0.        , 0.        , 0.        , 0.        , 0.        ,\n",
              "       0.        , 0.        , 0.        , 0.        , 0.        ])"
            ]
          },
          "metadata": {},
          "execution_count": 35
        }
      ],
      "source": [
        "inputs.toarray()[0][:100]"
      ]
    },
    {
      "cell_type": "code",
      "execution_count": 36,
      "metadata": {
        "id": "QLngc6g5yspe"
      },
      "outputs": [],
      "source": [
        "test_inputs = vectorizer.transform(test_df.Phrase)"
      ]
    },
    {
      "cell_type": "code",
      "execution_count": 37,
      "metadata": {
        "colab": {
          "base_uri": "https://localhost:8080/"
        },
        "id": "z9JRRv_Q4QNf",
        "outputId": "677e6744-b48e-4704-caf5-7eb78c04487d"
      },
      "outputs": [
        {
          "output_type": "execute_result",
          "data": {
            "text/plain": [
              "(66292, 2000)"
            ]
          },
          "metadata": {},
          "execution_count": 37
        }
      ],
      "source": [
        "test_inputs.shape"
      ]
    },
    {
      "cell_type": "markdown",
      "metadata": {
        "id": "TwLM4r3EetEK"
      },
      "source": [
        "## Train Baseline Model & Submit to Kaggle\n",
        "\n",
        "1. Split training and validation sets\n",
        "2. Train logistic regression model\n",
        "3. Study predictions on sample phrases\n",
        "4. Make predictions and submit to Kaggle\n",
        "\n",
        "\n"
      ]
    },
    {
      "cell_type": "markdown",
      "metadata": {
        "id": "NAZkydfs4wrX"
      },
      "source": [
        "### Split Training and Validation Sets\n",
        "\n",
        "Tip: Don't use a random sample for validation set (why?)"
      ]
    },
    {
      "cell_type": "code",
      "execution_count": 38,
      "metadata": {
        "id": "_9wZLI9i4rlB"
      },
      "outputs": [],
      "source": [
        "TRAIN_SIZE = 110_000"
      ]
    },
    {
      "cell_type": "code",
      "execution_count": 39,
      "metadata": {
        "id": "FnALsBHr4aQt"
      },
      "outputs": [],
      "source": [
        "train_inputs = inputs[:TRAIN_SIZE]\n",
        "train_targets = raw_df.Sentiment[:TRAIN_SIZE]"
      ]
    },
    {
      "cell_type": "code",
      "execution_count": 40,
      "metadata": {
        "id": "EF8dHyrF4S3R"
      },
      "outputs": [],
      "source": [
        "val_inputs = inputs[TRAIN_SIZE:]\n",
        "val_targets = raw_df.Sentiment[TRAIN_SIZE:]"
      ]
    },
    {
      "cell_type": "code",
      "execution_count": 41,
      "metadata": {
        "colab": {
          "base_uri": "https://localhost:8080/"
        },
        "id": "JXg0N5Tset2n",
        "outputId": "944482bf-27bf-4b62-d831-75123d9a3a4f"
      },
      "outputs": [
        {
          "output_type": "execute_result",
          "data": {
            "text/plain": [
              "((110000, 2000), (110000,))"
            ]
          },
          "metadata": {},
          "execution_count": 41
        }
      ],
      "source": [
        "train_inputs.shape, train_targets.shape"
      ]
    },
    {
      "cell_type": "code",
      "execution_count": 41,
      "metadata": {
        "id": "5-VO-Ad25CUt"
      },
      "outputs": [],
      "source": []
    },
    {
      "cell_type": "code",
      "execution_count": 41,
      "metadata": {
        "id": "T5IWqURF5ELL"
      },
      "outputs": [],
      "source": []
    },
    {
      "cell_type": "markdown",
      "metadata": {
        "id": "DHoTrGTM5Bo9"
      },
      "source": [
        "### Train Logistic Regression Model\n",
        "\n"
      ]
    },
    {
      "cell_type": "code",
      "execution_count": 42,
      "metadata": {
        "id": "jEHCuRAt7swN"
      },
      "outputs": [],
      "source": [
        "from sklearn.linear_model import LogisticRegression"
      ]
    },
    {
      "cell_type": "code",
      "execution_count": 43,
      "metadata": {
        "id": "7klXZoh-7st2"
      },
      "outputs": [],
      "source": [
        "model = LogisticRegression()"
      ]
    },
    {
      "cell_type": "code",
      "execution_count": 44,
      "metadata": {
        "colab": {
          "base_uri": "https://localhost:8080/"
        },
        "id": "THyNzV9J7srO",
        "outputId": "1d7cd1ce-d9df-4f12-9ced-2a1f108baf5f"
      },
      "outputs": [
        {
          "output_type": "stream",
          "name": "stderr",
          "text": [
            "/usr/local/lib/python3.7/dist-packages/sklearn/linear_model/_logistic.py:818: ConvergenceWarning: lbfgs failed to converge (status=1):\n",
            "STOP: TOTAL NO. of ITERATIONS REACHED LIMIT.\n",
            "\n",
            "Increase the number of iterations (max_iter) or scale the data as shown in:\n",
            "    https://scikit-learn.org/stable/modules/preprocessing.html\n",
            "Please also refer to the documentation for alternative solver options:\n",
            "    https://scikit-learn.org/stable/modules/linear_model.html#logistic-regression\n",
            "  extra_warning_msg=_LOGISTIC_SOLVER_CONVERGENCE_MSG,\n"
          ]
        },
        {
          "output_type": "execute_result",
          "data": {
            "text/plain": [
              "LogisticRegression()"
            ]
          },
          "metadata": {},
          "execution_count": 44
        }
      ],
      "source": [
        "model.fit(train_inputs, train_targets)"
      ]
    },
    {
      "cell_type": "code",
      "execution_count": 45,
      "metadata": {
        "id": "qQ0HAnwP8k1S"
      },
      "outputs": [],
      "source": [
        "train_preds = model.predict(train_inputs)"
      ]
    },
    {
      "cell_type": "code",
      "execution_count": 46,
      "metadata": {
        "id": "TFXjhxfS70Ny"
      },
      "outputs": [],
      "source": [
        "from sklearn.metrics import accuracy_score"
      ]
    },
    {
      "cell_type": "code",
      "execution_count": 47,
      "metadata": {
        "colab": {
          "base_uri": "https://localhost:8080/"
        },
        "id": "lT_-tby27so2",
        "outputId": "ab534c4f-e9d7-4ae9-cad1-2b23084d2160"
      },
      "outputs": [
        {
          "output_type": "execute_result",
          "data": {
            "text/plain": [
              "0.6381818181818182"
            ]
          },
          "metadata": {},
          "execution_count": 47
        }
      ],
      "source": [
        "accuracy_score(train_targets, train_preds)"
      ]
    },
    {
      "cell_type": "code",
      "execution_count": 48,
      "metadata": {
        "id": "fuPYR2H3MU5a"
      },
      "outputs": [],
      "source": [
        "val_preds = model.predict(val_inputs)"
      ]
    },
    {
      "cell_type": "code",
      "execution_count": 49,
      "metadata": {
        "colab": {
          "base_uri": "https://localhost:8080/"
        },
        "id": "tQon0oIIMZhM",
        "outputId": "b84ae264-2188-4cb7-a085-483b71658320"
      },
      "outputs": [
        {
          "output_type": "execute_result",
          "data": {
            "text/plain": [
              "0.5795049934867564"
            ]
          },
          "metadata": {},
          "execution_count": 49
        }
      ],
      "source": [
        "accuracy_score(val_targets, val_preds)"
      ]
    },
    {
      "cell_type": "markdown",
      "metadata": {
        "id": "RS2HgpkL_J0G"
      },
      "source": [
        "### Study Predictions on Sample Inputs"
      ]
    },
    {
      "cell_type": "code",
      "execution_count": 50,
      "metadata": {
        "colab": {
          "base_uri": "https://localhost:8080/",
          "height": 0
        },
        "id": "Kvb-G3EU-3sD",
        "outputId": "a8a078ff-0001-48c8-ed0b-46ef93851cb4"
      },
      "outputs": [
        {
          "output_type": "execute_result",
          "data": {
            "text/plain": [
              "        PhraseId  SentenceId  \\\n",
              "134267    134268        7245   \n",
              "94862      94863        4950   \n",
              "26053      26054        1192   \n",
              "79942      79943        4119   \n",
              "40472      40473        1936   \n",
              "\n",
              "                                                   Phrase  Sentiment  \n",
              "134267  could have turned this into an Argentine retre...          2  \n",
              "94862   Tries so hard to be quirky and funny that the ...          1  \n",
              "26053                                            The heat          2  \n",
              "79942                                                 Uwe          2  \n",
              "40472   -LRB- Gulpilil -RRB- is a commanding screen pr...          3  "
            ],
            "text/html": [
              "\n",
              "  <div id=\"df-2822bc87-ca8a-40df-862e-7af5cbd14526\">\n",
              "    <div class=\"colab-df-container\">\n",
              "      <div>\n",
              "<style scoped>\n",
              "    .dataframe tbody tr th:only-of-type {\n",
              "        vertical-align: middle;\n",
              "    }\n",
              "\n",
              "    .dataframe tbody tr th {\n",
              "        vertical-align: top;\n",
              "    }\n",
              "\n",
              "    .dataframe thead th {\n",
              "        text-align: right;\n",
              "    }\n",
              "</style>\n",
              "<table border=\"1\" class=\"dataframe\">\n",
              "  <thead>\n",
              "    <tr style=\"text-align: right;\">\n",
              "      <th></th>\n",
              "      <th>PhraseId</th>\n",
              "      <th>SentenceId</th>\n",
              "      <th>Phrase</th>\n",
              "      <th>Sentiment</th>\n",
              "    </tr>\n",
              "  </thead>\n",
              "  <tbody>\n",
              "    <tr>\n",
              "      <th>134267</th>\n",
              "      <td>134268</td>\n",
              "      <td>7245</td>\n",
              "      <td>could have turned this into an Argentine retre...</td>\n",
              "      <td>2</td>\n",
              "    </tr>\n",
              "    <tr>\n",
              "      <th>94862</th>\n",
              "      <td>94863</td>\n",
              "      <td>4950</td>\n",
              "      <td>Tries so hard to be quirky and funny that the ...</td>\n",
              "      <td>1</td>\n",
              "    </tr>\n",
              "    <tr>\n",
              "      <th>26053</th>\n",
              "      <td>26054</td>\n",
              "      <td>1192</td>\n",
              "      <td>The heat</td>\n",
              "      <td>2</td>\n",
              "    </tr>\n",
              "    <tr>\n",
              "      <th>79942</th>\n",
              "      <td>79943</td>\n",
              "      <td>4119</td>\n",
              "      <td>Uwe</td>\n",
              "      <td>2</td>\n",
              "    </tr>\n",
              "    <tr>\n",
              "      <th>40472</th>\n",
              "      <td>40473</td>\n",
              "      <td>1936</td>\n",
              "      <td>-LRB- Gulpilil -RRB- is a commanding screen pr...</td>\n",
              "      <td>3</td>\n",
              "    </tr>\n",
              "  </tbody>\n",
              "</table>\n",
              "</div>\n",
              "      <button class=\"colab-df-convert\" onclick=\"convertToInteractive('df-2822bc87-ca8a-40df-862e-7af5cbd14526')\"\n",
              "              title=\"Convert this dataframe to an interactive table.\"\n",
              "              style=\"display:none;\">\n",
              "        \n",
              "  <svg xmlns=\"http://www.w3.org/2000/svg\" height=\"24px\"viewBox=\"0 0 24 24\"\n",
              "       width=\"24px\">\n",
              "    <path d=\"M0 0h24v24H0V0z\" fill=\"none\"/>\n",
              "    <path d=\"M18.56 5.44l.94 2.06.94-2.06 2.06-.94-2.06-.94-.94-2.06-.94 2.06-2.06.94zm-11 1L8.5 8.5l.94-2.06 2.06-.94-2.06-.94L8.5 2.5l-.94 2.06-2.06.94zm10 10l.94 2.06.94-2.06 2.06-.94-2.06-.94-.94-2.06-.94 2.06-2.06.94z\"/><path d=\"M17.41 7.96l-1.37-1.37c-.4-.4-.92-.59-1.43-.59-.52 0-1.04.2-1.43.59L10.3 9.45l-7.72 7.72c-.78.78-.78 2.05 0 2.83L4 21.41c.39.39.9.59 1.41.59.51 0 1.02-.2 1.41-.59l7.78-7.78 2.81-2.81c.8-.78.8-2.07 0-2.86zM5.41 20L4 18.59l7.72-7.72 1.47 1.35L5.41 20z\"/>\n",
              "  </svg>\n",
              "      </button>\n",
              "      \n",
              "  <style>\n",
              "    .colab-df-container {\n",
              "      display:flex;\n",
              "      flex-wrap:wrap;\n",
              "      gap: 12px;\n",
              "    }\n",
              "\n",
              "    .colab-df-convert {\n",
              "      background-color: #E8F0FE;\n",
              "      border: none;\n",
              "      border-radius: 50%;\n",
              "      cursor: pointer;\n",
              "      display: none;\n",
              "      fill: #1967D2;\n",
              "      height: 32px;\n",
              "      padding: 0 0 0 0;\n",
              "      width: 32px;\n",
              "    }\n",
              "\n",
              "    .colab-df-convert:hover {\n",
              "      background-color: #E2EBFA;\n",
              "      box-shadow: 0px 1px 2px rgba(60, 64, 67, 0.3), 0px 1px 3px 1px rgba(60, 64, 67, 0.15);\n",
              "      fill: #174EA6;\n",
              "    }\n",
              "\n",
              "    [theme=dark] .colab-df-convert {\n",
              "      background-color: #3B4455;\n",
              "      fill: #D2E3FC;\n",
              "    }\n",
              "\n",
              "    [theme=dark] .colab-df-convert:hover {\n",
              "      background-color: #434B5C;\n",
              "      box-shadow: 0px 1px 3px 1px rgba(0, 0, 0, 0.15);\n",
              "      filter: drop-shadow(0px 1px 2px rgba(0, 0, 0, 0.3));\n",
              "      fill: #FFFFFF;\n",
              "    }\n",
              "  </style>\n",
              "\n",
              "      <script>\n",
              "        const buttonEl =\n",
              "          document.querySelector('#df-2822bc87-ca8a-40df-862e-7af5cbd14526 button.colab-df-convert');\n",
              "        buttonEl.style.display =\n",
              "          google.colab.kernel.accessAllowed ? 'block' : 'none';\n",
              "\n",
              "        async function convertToInteractive(key) {\n",
              "          const element = document.querySelector('#df-2822bc87-ca8a-40df-862e-7af5cbd14526');\n",
              "          const dataTable =\n",
              "            await google.colab.kernel.invokeFunction('convertToInteractive',\n",
              "                                                     [key], {});\n",
              "          if (!dataTable) return;\n",
              "\n",
              "          const docLinkHtml = 'Like what you see? Visit the ' +\n",
              "            '<a target=\"_blank\" href=https://colab.research.google.com/notebooks/data_table.ipynb>data table notebook</a>'\n",
              "            + ' to learn more about interactive tables.';\n",
              "          element.innerHTML = '';\n",
              "          dataTable['output_type'] = 'display_data';\n",
              "          await google.colab.output.renderOutput(dataTable, element);\n",
              "          const docLink = document.createElement('div');\n",
              "          docLink.innerHTML = docLinkHtml;\n",
              "          element.appendChild(docLink);\n",
              "        }\n",
              "      </script>\n",
              "    </div>\n",
              "  </div>\n",
              "  "
            ]
          },
          "metadata": {},
          "execution_count": 50
        }
      ],
      "source": [
        "small_df = raw_df.sample(20)\n",
        "small_df.head()"
      ]
    },
    {
      "cell_type": "code",
      "execution_count": 51,
      "metadata": {
        "id": "96pSFU6Q-3m_"
      },
      "outputs": [],
      "source": [
        "small_inputs = vectorizer.transform(small_df.Phrase)"
      ]
    },
    {
      "cell_type": "code",
      "execution_count": 52,
      "metadata": {
        "id": "FRlyVDpu_ARh"
      },
      "outputs": [],
      "source": [
        "small_preds = model.predict(small_inputs)"
      ]
    },
    {
      "cell_type": "code",
      "execution_count": 53,
      "metadata": {
        "colab": {
          "base_uri": "https://localhost:8080/"
        },
        "id": "SVX3fbskDyGs",
        "outputId": "e9e5d50b-4ca6-43c6-81bf-d0a333956203"
      },
      "outputs": [
        {
          "output_type": "execute_result",
          "data": {
            "text/plain": [
              "array([3, 1, 2, 2, 2, 2, 1, 2, 1, 1, 1, 2, 2, 3, 2, 3, 2, 3, 2, 4])"
            ]
          },
          "metadata": {},
          "execution_count": 53
        }
      ],
      "source": [
        "small_preds"
      ]
    },
    {
      "cell_type": "code",
      "execution_count": 53,
      "metadata": {
        "id": "uUgkh-zfD1HI"
      },
      "outputs": [],
      "source": []
    },
    {
      "cell_type": "code",
      "execution_count": 53,
      "metadata": {
        "id": "urtcbsfd_AO0"
      },
      "outputs": [],
      "source": []
    },
    {
      "cell_type": "markdown",
      "metadata": {
        "id": "HkiqfeBneyth"
      },
      "source": [
        "### Make Predictions & Submit to Kaggle\n",
        "\n",
        "1. Make predictions on Test Dataset\n",
        "2. Generate & submit CSV on Kaggle\n",
        "3. Add screenshot of your score \n",
        "\n"
      ]
    },
    {
      "cell_type": "code",
      "execution_count": 54,
      "metadata": {
        "id": "jz8W9Nnce31g"
      },
      "outputs": [],
      "source": [
        "test_preds = model.predict(test_inputs)"
      ]
    },
    {
      "cell_type": "code",
      "execution_count": 55,
      "metadata": {
        "colab": {
          "base_uri": "https://localhost:8080/"
        },
        "id": "RHfHJcBae4e3",
        "outputId": "bdf0d2a7-e2f0-4ee7-f6cb-b043ccaba938"
      },
      "outputs": [
        {
          "output_type": "execute_result",
          "data": {
            "text/plain": [
              "array([3, 3, 2, ..., 2, 2, 1])"
            ]
          },
          "metadata": {},
          "execution_count": 55
        }
      ],
      "source": [
        "test_preds"
      ]
    },
    {
      "cell_type": "code",
      "execution_count": 56,
      "metadata": {
        "colab": {
          "base_uri": "https://localhost:8080/",
          "height": 0
        },
        "id": "JZ1urPNme4bo",
        "outputId": "083c248d-96aa-42f0-afda-d0d3ef7ab0c2"
      },
      "outputs": [
        {
          "output_type": "execute_result",
          "data": {
            "text/plain": [
              "       PhraseId  Sentiment\n",
              "0        156061          2\n",
              "1        156062          2\n",
              "2        156063          2\n",
              "3        156064          2\n",
              "4        156065          2\n",
              "...         ...        ...\n",
              "66287    222348          2\n",
              "66288    222349          2\n",
              "66289    222350          2\n",
              "66290    222351          2\n",
              "66291    222352          2\n",
              "\n",
              "[66292 rows x 2 columns]"
            ],
            "text/html": [
              "\n",
              "  <div id=\"df-0cd6b713-67e8-4419-bda4-efe90fb39c22\">\n",
              "    <div class=\"colab-df-container\">\n",
              "      <div>\n",
              "<style scoped>\n",
              "    .dataframe tbody tr th:only-of-type {\n",
              "        vertical-align: middle;\n",
              "    }\n",
              "\n",
              "    .dataframe tbody tr th {\n",
              "        vertical-align: top;\n",
              "    }\n",
              "\n",
              "    .dataframe thead th {\n",
              "        text-align: right;\n",
              "    }\n",
              "</style>\n",
              "<table border=\"1\" class=\"dataframe\">\n",
              "  <thead>\n",
              "    <tr style=\"text-align: right;\">\n",
              "      <th></th>\n",
              "      <th>PhraseId</th>\n",
              "      <th>Sentiment</th>\n",
              "    </tr>\n",
              "  </thead>\n",
              "  <tbody>\n",
              "    <tr>\n",
              "      <th>0</th>\n",
              "      <td>156061</td>\n",
              "      <td>2</td>\n",
              "    </tr>\n",
              "    <tr>\n",
              "      <th>1</th>\n",
              "      <td>156062</td>\n",
              "      <td>2</td>\n",
              "    </tr>\n",
              "    <tr>\n",
              "      <th>2</th>\n",
              "      <td>156063</td>\n",
              "      <td>2</td>\n",
              "    </tr>\n",
              "    <tr>\n",
              "      <th>3</th>\n",
              "      <td>156064</td>\n",
              "      <td>2</td>\n",
              "    </tr>\n",
              "    <tr>\n",
              "      <th>4</th>\n",
              "      <td>156065</td>\n",
              "      <td>2</td>\n",
              "    </tr>\n",
              "    <tr>\n",
              "      <th>...</th>\n",
              "      <td>...</td>\n",
              "      <td>...</td>\n",
              "    </tr>\n",
              "    <tr>\n",
              "      <th>66287</th>\n",
              "      <td>222348</td>\n",
              "      <td>2</td>\n",
              "    </tr>\n",
              "    <tr>\n",
              "      <th>66288</th>\n",
              "      <td>222349</td>\n",
              "      <td>2</td>\n",
              "    </tr>\n",
              "    <tr>\n",
              "      <th>66289</th>\n",
              "      <td>222350</td>\n",
              "      <td>2</td>\n",
              "    </tr>\n",
              "    <tr>\n",
              "      <th>66290</th>\n",
              "      <td>222351</td>\n",
              "      <td>2</td>\n",
              "    </tr>\n",
              "    <tr>\n",
              "      <th>66291</th>\n",
              "      <td>222352</td>\n",
              "      <td>2</td>\n",
              "    </tr>\n",
              "  </tbody>\n",
              "</table>\n",
              "<p>66292 rows × 2 columns</p>\n",
              "</div>\n",
              "      <button class=\"colab-df-convert\" onclick=\"convertToInteractive('df-0cd6b713-67e8-4419-bda4-efe90fb39c22')\"\n",
              "              title=\"Convert this dataframe to an interactive table.\"\n",
              "              style=\"display:none;\">\n",
              "        \n",
              "  <svg xmlns=\"http://www.w3.org/2000/svg\" height=\"24px\"viewBox=\"0 0 24 24\"\n",
              "       width=\"24px\">\n",
              "    <path d=\"M0 0h24v24H0V0z\" fill=\"none\"/>\n",
              "    <path d=\"M18.56 5.44l.94 2.06.94-2.06 2.06-.94-2.06-.94-.94-2.06-.94 2.06-2.06.94zm-11 1L8.5 8.5l.94-2.06 2.06-.94-2.06-.94L8.5 2.5l-.94 2.06-2.06.94zm10 10l.94 2.06.94-2.06 2.06-.94-2.06-.94-.94-2.06-.94 2.06-2.06.94z\"/><path d=\"M17.41 7.96l-1.37-1.37c-.4-.4-.92-.59-1.43-.59-.52 0-1.04.2-1.43.59L10.3 9.45l-7.72 7.72c-.78.78-.78 2.05 0 2.83L4 21.41c.39.39.9.59 1.41.59.51 0 1.02-.2 1.41-.59l7.78-7.78 2.81-2.81c.8-.78.8-2.07 0-2.86zM5.41 20L4 18.59l7.72-7.72 1.47 1.35L5.41 20z\"/>\n",
              "  </svg>\n",
              "      </button>\n",
              "      \n",
              "  <style>\n",
              "    .colab-df-container {\n",
              "      display:flex;\n",
              "      flex-wrap:wrap;\n",
              "      gap: 12px;\n",
              "    }\n",
              "\n",
              "    .colab-df-convert {\n",
              "      background-color: #E8F0FE;\n",
              "      border: none;\n",
              "      border-radius: 50%;\n",
              "      cursor: pointer;\n",
              "      display: none;\n",
              "      fill: #1967D2;\n",
              "      height: 32px;\n",
              "      padding: 0 0 0 0;\n",
              "      width: 32px;\n",
              "    }\n",
              "\n",
              "    .colab-df-convert:hover {\n",
              "      background-color: #E2EBFA;\n",
              "      box-shadow: 0px 1px 2px rgba(60, 64, 67, 0.3), 0px 1px 3px 1px rgba(60, 64, 67, 0.15);\n",
              "      fill: #174EA6;\n",
              "    }\n",
              "\n",
              "    [theme=dark] .colab-df-convert {\n",
              "      background-color: #3B4455;\n",
              "      fill: #D2E3FC;\n",
              "    }\n",
              "\n",
              "    [theme=dark] .colab-df-convert:hover {\n",
              "      background-color: #434B5C;\n",
              "      box-shadow: 0px 1px 3px 1px rgba(0, 0, 0, 0.15);\n",
              "      filter: drop-shadow(0px 1px 2px rgba(0, 0, 0, 0.3));\n",
              "      fill: #FFFFFF;\n",
              "    }\n",
              "  </style>\n",
              "\n",
              "      <script>\n",
              "        const buttonEl =\n",
              "          document.querySelector('#df-0cd6b713-67e8-4419-bda4-efe90fb39c22 button.colab-df-convert');\n",
              "        buttonEl.style.display =\n",
              "          google.colab.kernel.accessAllowed ? 'block' : 'none';\n",
              "\n",
              "        async function convertToInteractive(key) {\n",
              "          const element = document.querySelector('#df-0cd6b713-67e8-4419-bda4-efe90fb39c22');\n",
              "          const dataTable =\n",
              "            await google.colab.kernel.invokeFunction('convertToInteractive',\n",
              "                                                     [key], {});\n",
              "          if (!dataTable) return;\n",
              "\n",
              "          const docLinkHtml = 'Like what you see? Visit the ' +\n",
              "            '<a target=\"_blank\" href=https://colab.research.google.com/notebooks/data_table.ipynb>data table notebook</a>'\n",
              "            + ' to learn more about interactive tables.';\n",
              "          element.innerHTML = '';\n",
              "          dataTable['output_type'] = 'display_data';\n",
              "          await google.colab.output.renderOutput(dataTable, element);\n",
              "          const docLink = document.createElement('div');\n",
              "          docLink.innerHTML = docLinkHtml;\n",
              "          element.appendChild(docLink);\n",
              "        }\n",
              "      </script>\n",
              "    </div>\n",
              "  </div>\n",
              "  "
            ]
          },
          "metadata": {},
          "execution_count": 56
        }
      ],
      "source": [
        "sub_df"
      ]
    },
    {
      "cell_type": "code",
      "execution_count": 57,
      "metadata": {
        "id": "MHUHTmYxEHcV"
      },
      "outputs": [],
      "source": [
        "sub_df.Sentiment = test_preds"
      ]
    },
    {
      "cell_type": "code",
      "execution_count": 58,
      "metadata": {
        "colab": {
          "base_uri": "https://localhost:8080/",
          "height": 0
        },
        "id": "HOTojNcWEHZ7",
        "outputId": "1d8e9813-1e5c-4df6-bb20-7f7aeb18818b"
      },
      "outputs": [
        {
          "output_type": "execute_result",
          "data": {
            "text/plain": [
              "       PhraseId  Sentiment\n",
              "0        156061          3\n",
              "1        156062          3\n",
              "2        156063          2\n",
              "3        156064          3\n",
              "4        156065          2\n",
              "...         ...        ...\n",
              "66287    222348          1\n",
              "66288    222349          1\n",
              "66289    222350          2\n",
              "66290    222351          2\n",
              "66291    222352          1\n",
              "\n",
              "[66292 rows x 2 columns]"
            ],
            "text/html": [
              "\n",
              "  <div id=\"df-b669e7af-d202-44d7-a361-4f1698bd60ab\">\n",
              "    <div class=\"colab-df-container\">\n",
              "      <div>\n",
              "<style scoped>\n",
              "    .dataframe tbody tr th:only-of-type {\n",
              "        vertical-align: middle;\n",
              "    }\n",
              "\n",
              "    .dataframe tbody tr th {\n",
              "        vertical-align: top;\n",
              "    }\n",
              "\n",
              "    .dataframe thead th {\n",
              "        text-align: right;\n",
              "    }\n",
              "</style>\n",
              "<table border=\"1\" class=\"dataframe\">\n",
              "  <thead>\n",
              "    <tr style=\"text-align: right;\">\n",
              "      <th></th>\n",
              "      <th>PhraseId</th>\n",
              "      <th>Sentiment</th>\n",
              "    </tr>\n",
              "  </thead>\n",
              "  <tbody>\n",
              "    <tr>\n",
              "      <th>0</th>\n",
              "      <td>156061</td>\n",
              "      <td>3</td>\n",
              "    </tr>\n",
              "    <tr>\n",
              "      <th>1</th>\n",
              "      <td>156062</td>\n",
              "      <td>3</td>\n",
              "    </tr>\n",
              "    <tr>\n",
              "      <th>2</th>\n",
              "      <td>156063</td>\n",
              "      <td>2</td>\n",
              "    </tr>\n",
              "    <tr>\n",
              "      <th>3</th>\n",
              "      <td>156064</td>\n",
              "      <td>3</td>\n",
              "    </tr>\n",
              "    <tr>\n",
              "      <th>4</th>\n",
              "      <td>156065</td>\n",
              "      <td>2</td>\n",
              "    </tr>\n",
              "    <tr>\n",
              "      <th>...</th>\n",
              "      <td>...</td>\n",
              "      <td>...</td>\n",
              "    </tr>\n",
              "    <tr>\n",
              "      <th>66287</th>\n",
              "      <td>222348</td>\n",
              "      <td>1</td>\n",
              "    </tr>\n",
              "    <tr>\n",
              "      <th>66288</th>\n",
              "      <td>222349</td>\n",
              "      <td>1</td>\n",
              "    </tr>\n",
              "    <tr>\n",
              "      <th>66289</th>\n",
              "      <td>222350</td>\n",
              "      <td>2</td>\n",
              "    </tr>\n",
              "    <tr>\n",
              "      <th>66290</th>\n",
              "      <td>222351</td>\n",
              "      <td>2</td>\n",
              "    </tr>\n",
              "    <tr>\n",
              "      <th>66291</th>\n",
              "      <td>222352</td>\n",
              "      <td>1</td>\n",
              "    </tr>\n",
              "  </tbody>\n",
              "</table>\n",
              "<p>66292 rows × 2 columns</p>\n",
              "</div>\n",
              "      <button class=\"colab-df-convert\" onclick=\"convertToInteractive('df-b669e7af-d202-44d7-a361-4f1698bd60ab')\"\n",
              "              title=\"Convert this dataframe to an interactive table.\"\n",
              "              style=\"display:none;\">\n",
              "        \n",
              "  <svg xmlns=\"http://www.w3.org/2000/svg\" height=\"24px\"viewBox=\"0 0 24 24\"\n",
              "       width=\"24px\">\n",
              "    <path d=\"M0 0h24v24H0V0z\" fill=\"none\"/>\n",
              "    <path d=\"M18.56 5.44l.94 2.06.94-2.06 2.06-.94-2.06-.94-.94-2.06-.94 2.06-2.06.94zm-11 1L8.5 8.5l.94-2.06 2.06-.94-2.06-.94L8.5 2.5l-.94 2.06-2.06.94zm10 10l.94 2.06.94-2.06 2.06-.94-2.06-.94-.94-2.06-.94 2.06-2.06.94z\"/><path d=\"M17.41 7.96l-1.37-1.37c-.4-.4-.92-.59-1.43-.59-.52 0-1.04.2-1.43.59L10.3 9.45l-7.72 7.72c-.78.78-.78 2.05 0 2.83L4 21.41c.39.39.9.59 1.41.59.51 0 1.02-.2 1.41-.59l7.78-7.78 2.81-2.81c.8-.78.8-2.07 0-2.86zM5.41 20L4 18.59l7.72-7.72 1.47 1.35L5.41 20z\"/>\n",
              "  </svg>\n",
              "      </button>\n",
              "      \n",
              "  <style>\n",
              "    .colab-df-container {\n",
              "      display:flex;\n",
              "      flex-wrap:wrap;\n",
              "      gap: 12px;\n",
              "    }\n",
              "\n",
              "    .colab-df-convert {\n",
              "      background-color: #E8F0FE;\n",
              "      border: none;\n",
              "      border-radius: 50%;\n",
              "      cursor: pointer;\n",
              "      display: none;\n",
              "      fill: #1967D2;\n",
              "      height: 32px;\n",
              "      padding: 0 0 0 0;\n",
              "      width: 32px;\n",
              "    }\n",
              "\n",
              "    .colab-df-convert:hover {\n",
              "      background-color: #E2EBFA;\n",
              "      box-shadow: 0px 1px 2px rgba(60, 64, 67, 0.3), 0px 1px 3px 1px rgba(60, 64, 67, 0.15);\n",
              "      fill: #174EA6;\n",
              "    }\n",
              "\n",
              "    [theme=dark] .colab-df-convert {\n",
              "      background-color: #3B4455;\n",
              "      fill: #D2E3FC;\n",
              "    }\n",
              "\n",
              "    [theme=dark] .colab-df-convert:hover {\n",
              "      background-color: #434B5C;\n",
              "      box-shadow: 0px 1px 3px 1px rgba(0, 0, 0, 0.15);\n",
              "      filter: drop-shadow(0px 1px 2px rgba(0, 0, 0, 0.3));\n",
              "      fill: #FFFFFF;\n",
              "    }\n",
              "  </style>\n",
              "\n",
              "      <script>\n",
              "        const buttonEl =\n",
              "          document.querySelector('#df-b669e7af-d202-44d7-a361-4f1698bd60ab button.colab-df-convert');\n",
              "        buttonEl.style.display =\n",
              "          google.colab.kernel.accessAllowed ? 'block' : 'none';\n",
              "\n",
              "        async function convertToInteractive(key) {\n",
              "          const element = document.querySelector('#df-b669e7af-d202-44d7-a361-4f1698bd60ab');\n",
              "          const dataTable =\n",
              "            await google.colab.kernel.invokeFunction('convertToInteractive',\n",
              "                                                     [key], {});\n",
              "          if (!dataTable) return;\n",
              "\n",
              "          const docLinkHtml = 'Like what you see? Visit the ' +\n",
              "            '<a target=\"_blank\" href=https://colab.research.google.com/notebooks/data_table.ipynb>data table notebook</a>'\n",
              "            + ' to learn more about interactive tables.';\n",
              "          element.innerHTML = '';\n",
              "          dataTable['output_type'] = 'display_data';\n",
              "          await google.colab.output.renderOutput(dataTable, element);\n",
              "          const docLink = document.createElement('div');\n",
              "          docLink.innerHTML = docLinkHtml;\n",
              "          element.appendChild(docLink);\n",
              "        }\n",
              "      </script>\n",
              "    </div>\n",
              "  </div>\n",
              "  "
            ]
          },
          "metadata": {},
          "execution_count": 58
        }
      ],
      "source": [
        "sub_df"
      ]
    },
    {
      "cell_type": "code",
      "execution_count": 59,
      "metadata": {
        "id": "8XsFvSxrNq20"
      },
      "outputs": [],
      "source": [
        "sub_df.to_csv('submission.csv', index = None)"
      ]
    },
    {
      "cell_type": "markdown",
      "metadata": {
        "id": "8kne2rQq8qL0"
      },
      "source": [
        "## Train & Finetune Different ML Models\n",
        "\n",
        "Train & finetune at least 2 other types of models\n",
        "\n",
        "Models to try:\n",
        "- Decision Trees\n",
        "- Random Forests\n",
        "- Gradient Boosting\n",
        "- Naive Bayes\n",
        "- SVM\n",
        "\n",
        "Optional: \n",
        "* Use PCA for dimensionality reduction\n",
        "* Compare classification vs regression models\n",
        "\n",
        "\n",
        "Tips: \n",
        "\n",
        "- If using a regression model, make sure to round predictions to integer and clip to the range `[1,5]`\n",
        "- Track your progress in a copy of [this experiment tracking spreadsheet](https://docs.google.com/spreadsheets/d/1X-tifxAOAYeIA2J32hBGP5B0MPnZy_o-zOz1NbS-1Ig/edit?usp=sharing)\n"
      ]
    },
    {
      "cell_type": "markdown",
      "metadata": {
        "id": "ZvIwhYInvFJf"
      },
      "source": [
        "### Model 1"
      ]
    },
    {
      "cell_type": "code",
      "execution_count": 60,
      "metadata": {
        "id": "kN-yZN12e4Yz"
      },
      "outputs": [],
      "source": [
        "from sklearn.tree import DecisionTreeClassifier"
      ]
    },
    {
      "cell_type": "code",
      "execution_count": 61,
      "metadata": {
        "id": "X8f6t6wge4WV"
      },
      "outputs": [],
      "source": [
        "model_decisionTree = DecisionTreeClassifier(max_depth = 4500, max_features = 2000, max_leaf_nodes = 5000, criterion = 'gini', splitter = 'random')"
      ]
    },
    {
      "cell_type": "code",
      "execution_count": 62,
      "metadata": {
        "colab": {
          "base_uri": "https://localhost:8080/"
        },
        "id": "lig2PXUCAfqF",
        "outputId": "d6da9601-4db7-4d1b-f1b9-33e463fedb81"
      },
      "outputs": [
        {
          "output_type": "execute_result",
          "data": {
            "text/plain": [
              "DecisionTreeClassifier(max_depth=4500, max_features=2000, max_leaf_nodes=5000,\n",
              "                       splitter='random')"
            ]
          },
          "metadata": {},
          "execution_count": 62
        }
      ],
      "source": [
        "model_decisionTree.fit(train_inputs, train_targets)"
      ]
    },
    {
      "cell_type": "code",
      "execution_count": 63,
      "metadata": {
        "id": "okw1iaS_EHjd"
      },
      "outputs": [],
      "source": [
        "decision_tree_preds = model_decisionTree.predict(train_inputs)"
      ]
    },
    {
      "cell_type": "code",
      "execution_count": 64,
      "metadata": {
        "colab": {
          "base_uri": "https://localhost:8080/"
        },
        "id": "vhP6YT_SEVex",
        "outputId": "3d470255-ece6-443d-f6cf-6fcfce088f20"
      },
      "outputs": [
        {
          "output_type": "execute_result",
          "data": {
            "text/plain": [
              "0.7183181818181819"
            ]
          },
          "metadata": {},
          "execution_count": 64
        }
      ],
      "source": [
        "accuracy_score(train_targets, decision_tree_preds)"
      ]
    },
    {
      "cell_type": "code",
      "execution_count": 65,
      "metadata": {
        "id": "9Y1laZlBGXvu"
      },
      "outputs": [],
      "source": [
        "val_decision_tree_preds = model_decisionTree.predict(val_inputs)"
      ]
    },
    {
      "cell_type": "code",
      "execution_count": 66,
      "metadata": {
        "colab": {
          "base_uri": "https://localhost:8080/"
        },
        "id": "8w-vn7DSGXs0",
        "outputId": "2242ce66-e39a-41ad-f31e-aa41b3374a7d"
      },
      "outputs": [
        {
          "output_type": "execute_result",
          "data": {
            "text/plain": [
              "0.5476118106817195"
            ]
          },
          "metadata": {},
          "execution_count": 66
        }
      ],
      "source": [
        "accuracy_score(val_targets, val_decision_tree_preds)"
      ]
    },
    {
      "cell_type": "code",
      "execution_count": 67,
      "metadata": {
        "id": "O160DxXPNTgx"
      },
      "outputs": [],
      "source": [
        "test__tree_preds = model_decisionTree.predict(test_inputs)"
      ]
    },
    {
      "cell_type": "code",
      "execution_count": 68,
      "metadata": {
        "id": "Xp9U-Z8wNYWc"
      },
      "outputs": [],
      "source": [
        "sub_df.Sentiment = test__tree_preds"
      ]
    },
    {
      "cell_type": "code",
      "execution_count": 69,
      "metadata": {
        "id": "Z6P9_FAvNYQD"
      },
      "outputs": [],
      "source": [
        "sub_df.to_csv('submission2.csv', index = None)"
      ]
    },
    {
      "cell_type": "markdown",
      "metadata": {
        "id": "ewoiYmCyAmuZ",
        "outputId": "7a98660c-5c53-4177-9646-377081671071"
      },
      "source": [
        "### Model 2"
      ]
    },
    {
      "cell_type": "code",
      "execution_count": 70,
      "metadata": {
        "id": "tExMdRaEBu5E"
      },
      "outputs": [],
      "source": [
        "from sklearn.naive_bayes import MultinomialNB"
      ]
    },
    {
      "cell_type": "code",
      "execution_count": 71,
      "metadata": {
        "id": "kvdfuy_E-vvV"
      },
      "outputs": [],
      "source": [
        "model_NB = MultinomialNB(alpha = 0.5, fit_prior = True)"
      ]
    },
    {
      "cell_type": "code",
      "execution_count": 72,
      "metadata": {
        "colab": {
          "base_uri": "https://localhost:8080/"
        },
        "id": "4BWA9sSrDoxE",
        "outputId": "72235d4f-c37c-4c8c-e77a-9f29d474c331"
      },
      "outputs": [
        {
          "output_type": "execute_result",
          "data": {
            "text/plain": [
              "MultinomialNB(alpha=0.5)"
            ]
          },
          "metadata": {},
          "execution_count": 72
        }
      ],
      "source": [
        "model_NB.fit(train_inputs, train_targets)"
      ]
    },
    {
      "cell_type": "code",
      "execution_count": 73,
      "metadata": {
        "id": "2m8NRB3QLv0q"
      },
      "outputs": [],
      "source": [
        "model_NB_preds = model_NB.predict(train_inputs)"
      ]
    },
    {
      "cell_type": "code",
      "execution_count": 74,
      "metadata": {
        "colab": {
          "base_uri": "https://localhost:8080/"
        },
        "id": "CdAzhjkrLvhJ",
        "outputId": "bf3fcacc-5d90-4877-e653-d3de1c13565c"
      },
      "outputs": [
        {
          "output_type": "execute_result",
          "data": {
            "text/plain": [
              "0.5865181818181818"
            ]
          },
          "metadata": {},
          "execution_count": 74
        }
      ],
      "source": [
        "accuracy_score(train_targets, model_NB_preds)"
      ]
    },
    {
      "cell_type": "code",
      "execution_count": 75,
      "metadata": {
        "id": "Wvm6q9CJLvdS"
      },
      "outputs": [],
      "source": [
        "val_NB_preds = model_NB.predict(val_inputs)"
      ]
    },
    {
      "cell_type": "code",
      "execution_count": 76,
      "metadata": {
        "colab": {
          "base_uri": "https://localhost:8080/"
        },
        "id": "P8bgWK1pLvXT",
        "outputId": "4b28bb61-44fa-4da8-b2d8-97571ae91968"
      },
      "outputs": [
        {
          "output_type": "execute_result",
          "data": {
            "text/plain": [
              "0.5443334780720799"
            ]
          },
          "metadata": {},
          "execution_count": 76
        }
      ],
      "source": [
        "accuracy_score(val_targets, val_NB_preds)"
      ]
    },
    {
      "cell_type": "code",
      "execution_count": 77,
      "metadata": {
        "id": "lCR0mnvwLvOY"
      },
      "outputs": [],
      "source": [
        "test__NB_preds = model_NB.predict(test_inputs)"
      ]
    },
    {
      "cell_type": "code",
      "execution_count": 78,
      "metadata": {
        "id": "S-CkgQkQM4hA"
      },
      "outputs": [],
      "source": [
        "sub_df.Sentiment = test__NB_preds"
      ]
    },
    {
      "cell_type": "code",
      "execution_count": 79,
      "metadata": {
        "id": "YajaFfxoM4Wr"
      },
      "outputs": [],
      "source": [
        "sub_df.to_csv('submission3.csv', index = None)"
      ]
    },
    {
      "cell_type": "markdown",
      "metadata": {
        "id": "S8WnmO8SDopQ",
        "outputId": "ad27a3ba-b6e9-4675-9b20-0e338f3fcf8d"
      },
      "source": [
        "### Model 3"
      ]
    },
    {
      "cell_type": "code",
      "execution_count": 80,
      "metadata": {
        "id": "FuRhZQJqDomm"
      },
      "outputs": [],
      "source": [
        "from sklearn.ensemble import RandomForestClassifier"
      ]
    },
    {
      "cell_type": "code",
      "execution_count": 81,
      "metadata": {
        "id": "1FyiLUvLDojw"
      },
      "outputs": [],
      "source": [
        "model_rf = RandomForestClassifier(n_estimators = 500, max_depth = 4500, max_features = 2000, max_leaf_nodes = 5000, criterion = 'entropy')"
      ]
    },
    {
      "cell_type": "code",
      "execution_count": 82,
      "metadata": {
        "colab": {
          "base_uri": "https://localhost:8080/"
        },
        "id": "uGvDA1JJFkjF",
        "outputId": "403316e3-8566-43e5-a719-8f9a0baecf9b"
      },
      "outputs": [
        {
          "output_type": "execute_result",
          "data": {
            "text/plain": [
              "RandomForestClassifier(criterion='entropy', max_depth=4500, max_features=2000,\n",
              "                       max_leaf_nodes=5000, n_estimators=500)"
            ]
          },
          "metadata": {},
          "execution_count": 82
        }
      ],
      "source": [
        "model_rf.fit(train_inputs, train_targets)"
      ]
    },
    {
      "cell_type": "code",
      "execution_count": 83,
      "metadata": {
        "id": "l90XTWj6DohY"
      },
      "outputs": [],
      "source": [
        "model_rf_preds = model_rf.predict(train_inputs)"
      ]
    },
    {
      "cell_type": "code",
      "execution_count": 84,
      "metadata": {
        "colab": {
          "base_uri": "https://localhost:8080/"
        },
        "id": "cWV4sE4nO_DB",
        "outputId": "521eb287-1dc0-4147-8522-089c9c67e6a2"
      },
      "outputs": [
        {
          "output_type": "execute_result",
          "data": {
            "text/plain": [
              "0.7442090909090909"
            ]
          },
          "metadata": {},
          "execution_count": 84
        }
      ],
      "source": [
        "accuracy_score(train_targets, model_rf_preds)"
      ]
    },
    {
      "cell_type": "code",
      "execution_count": 85,
      "metadata": {
        "id": "MuY1tUI3fMyp"
      },
      "outputs": [],
      "source": [
        "val_rf_preds = model_rf.predict(val_inputs)"
      ]
    },
    {
      "cell_type": "code",
      "execution_count": 86,
      "metadata": {
        "colab": {
          "base_uri": "https://localhost:8080/"
        },
        "id": "OFE7-LpBfMq1",
        "outputId": "2d7d5d28-a21c-42cf-9ce8-c04751220227"
      },
      "outputs": [
        {
          "output_type": "execute_result",
          "data": {
            "text/plain": [
              "0.5584455058619192"
            ]
          },
          "metadata": {},
          "execution_count": 86
        }
      ],
      "source": [
        "accuracy_score(val_targets, val_rf_preds)"
      ]
    },
    {
      "cell_type": "code",
      "source": [
        "test__rf_preds = model_rf.predict(test_inputs)"
      ],
      "metadata": {
        "id": "w-4y-_7H0Y-i"
      },
      "execution_count": 87,
      "outputs": []
    },
    {
      "cell_type": "code",
      "source": [
        "sub_df.Sentiment = test__NB_preds"
      ],
      "metadata": {
        "id": "drUG1Lx30Y0p"
      },
      "execution_count": 88,
      "outputs": []
    },
    {
      "cell_type": "code",
      "source": [
        "sub_df.to_csv('submission4.csv', index = None)"
      ],
      "metadata": {
        "id": "8Sb_Nepb0gbS"
      },
      "execution_count": 89,
      "outputs": []
    },
    {
      "cell_type": "markdown",
      "metadata": {
        "id": "OM8SxFzLvFJi"
      },
      "source": [
        "Best Model:\n",
        "\n",
        "Decision Tree\n",
        "![image.png](data:image/png;base64,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)"
      ]
    },
    {
      "cell_type": "markdown",
      "metadata": {
        "id": "zhVGx0VZe6Gg"
      },
      "source": [
        "## Submission and Future Work\n",
        "\n",
        "\n",
        "How to make a submission:\n",
        "\n",
        "- Add documentation and explanations\n",
        "- Clean up any stray code/comments\n",
        "- Include a screenshot of your best score\n",
        "- Make a submission on the assignment page\n",
        "- Review evaluation criteria carefully\n",
        "\n",
        "\n",
        "Future work:\n",
        "- Try more machine learning models\n",
        "- Try configuring CountVectorizer differently\n",
        "- Try approaches other than bag of words\n"
      ]
    },
    {
      "cell_type": "code",
      "execution_count": 86,
      "metadata": {
        "id": "VwrR6HlbvFJj"
      },
      "outputs": [],
      "source": []
    }
  ],
  "metadata": {
    "accelerator": "GPU",
    "colab": {
      "provenance": [],
      "collapsed_sections": [
        "m3cu-meXuETm",
        "N83nLs4juO67",
        "NAZkydfs4wrX",
        "DHoTrGTM5Bo9",
        "RS2HgpkL_J0G",
        "HkiqfeBneyth"
      ]
    },
    "gpuClass": "standard",
    "kernelspec": {
      "display_name": "Python 3 (ipykernel)",
      "language": "python",
      "name": "python3"
    },
    "language_info": {
      "codemirror_mode": {
        "name": "ipython",
        "version": 3
      },
      "file_extension": ".py",
      "mimetype": "text/x-python",
      "name": "python",
      "nbconvert_exporter": "python",
      "pygments_lexer": "ipython3",
      "version": "3.9.6"
    }
  },
  "nbformat": 4,
  "nbformat_minor": 0
}